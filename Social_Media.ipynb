{
 "cells": [
  {
   "cell_type": "raw",
   "id": "45b7acda-73b3-4f4c-a3ac-c8684ab1f44b",
   "metadata": {},
   "source": [
    "API authenticated"
   ]
  },
  {
   "cell_type": "code",
   "execution_count": 5,
   "id": "4a2cf39c-da89-4888-a686-1084f39b3b07",
   "metadata": {},
   "outputs": [
    {
     "name": "stdout",
     "output_type": "stream",
     "text": [
      "Requirement already satisfied: tweepy in /opt/anaconda3/lib/python3.12/site-packages (4.16.0)\n",
      "Requirement already satisfied: oauthlib<4,>=3.2.0 in /opt/anaconda3/lib/python3.12/site-packages (from tweepy) (3.3.1)\n",
      "Requirement already satisfied: requests<3,>=2.27.0 in /opt/anaconda3/lib/python3.12/site-packages (from tweepy) (2.32.3)\n",
      "Requirement already satisfied: requests-oauthlib<3,>=1.2.0 in /opt/anaconda3/lib/python3.12/site-packages (from tweepy) (2.0.0)\n",
      "Requirement already satisfied: charset-normalizer<4,>=2 in /opt/anaconda3/lib/python3.12/site-packages (from requests<3,>=2.27.0->tweepy) (3.3.2)\n",
      "Requirement already satisfied: idna<4,>=2.5 in /opt/anaconda3/lib/python3.12/site-packages (from requests<3,>=2.27.0->tweepy) (3.7)\n",
      "Requirement already satisfied: urllib3<3,>=1.21.1 in /opt/anaconda3/lib/python3.12/site-packages (from requests<3,>=2.27.0->tweepy) (2.4.0)\n",
      "Requirement already satisfied: certifi>=2017.4.17 in /opt/anaconda3/lib/python3.12/site-packages (from requests<3,>=2.27.0->tweepy) (2025.4.26)\n"
     ]
    }
   ],
   "source": [
    "!pip install tweepy"
   ]
  },
  {
   "cell_type": "code",
   "execution_count": 13,
   "id": "7a914604-c8e5-43ad-97c2-cd09bc9d723e",
   "metadata": {},
   "outputs": [
    {
     "name": "stdout",
     "output_type": "stream",
     "text": [
      "✅ Twitter API authenticated!\n"
     ]
    }
   ],
   "source": [
    "import tweepy\n",
    "import pandas as pd\n",
    "\n",
    "# Your Twitter Developer credentials\n",
    "API_KEY = \"z6CyDkO5IoWRHWx8pKTCUi3Y6\"\n",
    "API_SECRET = \"k2foShbN4ieRUkFlzC2A5YhG4Q1SK6eeCwt9VR669R3843xo30\"\n",
    "ACCESS_TOKEN = \"2365212734-by5FTYejUqlppZpqu047Cf7ptE10BLusIogMR0K\"\n",
    "ACCESS_TOKEN_SECRET = \"7jqRUdAynwMHd76Ouj3bdvPf7yhFmWrw3eC4vmr6bF6Qn\"\n",
    "\n",
    "# Authenticate with Twitter\n",
    "auth = tweepy.OAuthHandler(API_KEY, API_SECRET)\n",
    "auth.set_access_token(ACCESS_TOKEN, ACCESS_TOKEN_SECRET)\n",
    "api = tweepy.API(auth, wait_on_rate_limit=True)\n",
    "\n",
    "print(\"✅ Twitter API authenticated!\")\n"
   ]
  },
  {
   "cell_type": "raw",
   "id": "6eb7005c-6db2-451c-9641-7313b1913bb3",
   "metadata": {},
   "source": [
    "Fetch Tweets with a Keyword/Hashtag"
   ]
  },
  {
   "cell_type": "code",
   "execution_count": 19,
   "id": "9c8b2b61-623e-4e5b-9110-e694d175ec45",
   "metadata": {},
   "outputs": [
    {
     "data": {
      "text/html": [
       "<div>\n",
       "<style scoped>\n",
       "    .dataframe tbody tr th:only-of-type {\n",
       "        vertical-align: middle;\n",
       "    }\n",
       "\n",
       "    .dataframe tbody tr th {\n",
       "        vertical-align: top;\n",
       "    }\n",
       "\n",
       "    .dataframe thead th {\n",
       "        text-align: right;\n",
       "    }\n",
       "</style>\n",
       "<table border=\"1\" class=\"dataframe\">\n",
       "  <thead>\n",
       "    <tr style=\"text-align: right;\">\n",
       "      <th></th>\n",
       "      <th>Tweet_ID</th>\n",
       "      <th>Timestamp</th>\n",
       "      <th>Author_ID</th>\n",
       "      <th>Text</th>\n",
       "    </tr>\n",
       "  </thead>\n",
       "  <tbody>\n",
       "    <tr>\n",
       "      <th>0</th>\n",
       "      <td>1948730831612137695</td>\n",
       "      <td>2025-07-25 13:03:30+00:00</td>\n",
       "      <td>602691307</td>\n",
       "      <td>@ECISVEEP @airnewsalerts @DDNewslive @DDNewsHi...</td>\n",
       "    </tr>\n",
       "    <tr>\n",
       "      <th>1</th>\n",
       "      <td>1948730160091455957</td>\n",
       "      <td>2025-07-25 13:00:50+00:00</td>\n",
       "      <td>865470149763059712</td>\n",
       "      <td>Hey @RahulGandhi  , Election commission is com...</td>\n",
       "    </tr>\n",
       "    <tr>\n",
       "      <th>2</th>\n",
       "      <td>1948729842033119259</td>\n",
       "      <td>2025-07-25 12:59:34+00:00</td>\n",
       "      <td>1833711472087572480</td>\n",
       "      <td>@PMRCLofficial @AbhaySinghIAS @_sharma999 @IPR...</td>\n",
       "    </tr>\n",
       "    <tr>\n",
       "      <th>3</th>\n",
       "      <td>1948728519351030077</td>\n",
       "      <td>2025-07-25 12:54:19+00:00</td>\n",
       "      <td>1661981214385872896</td>\n",
       "      <td>@ugiboogie2 @sandeep_PT This govt. has to fall...</td>\n",
       "    </tr>\n",
       "    <tr>\n",
       "      <th>4</th>\n",
       "      <td>1948727888142077972</td>\n",
       "      <td>2025-07-25 12:51:48+00:00</td>\n",
       "      <td>1869363800710807552</td>\n",
       "      <td>@MeghUpdates I don't understand why congress k...</td>\n",
       "    </tr>\n",
       "  </tbody>\n",
       "</table>\n",
       "</div>"
      ],
      "text/plain": [
       "              Tweet_ID                 Timestamp            Author_ID  \\\n",
       "0  1948730831612137695 2025-07-25 13:03:30+00:00            602691307   \n",
       "1  1948730160091455957 2025-07-25 13:00:50+00:00   865470149763059712   \n",
       "2  1948729842033119259 2025-07-25 12:59:34+00:00  1833711472087572480   \n",
       "3  1948728519351030077 2025-07-25 12:54:19+00:00  1661981214385872896   \n",
       "4  1948727888142077972 2025-07-25 12:51:48+00:00  1869363800710807552   \n",
       "\n",
       "                                                Text  \n",
       "0  @ECISVEEP @airnewsalerts @DDNewslive @DDNewsHi...  \n",
       "1  Hey @RahulGandhi  , Election commission is com...  \n",
       "2  @PMRCLofficial @AbhaySinghIAS @_sharma999 @IPR...  \n",
       "3  @ugiboogie2 @sandeep_PT This govt. has to fall...  \n",
       "4  @MeghUpdates I don't understand why congress k...  "
      ]
     },
     "execution_count": 19,
     "metadata": {},
     "output_type": "execute_result"
    }
   ],
   "source": [
    "import tweepy\n",
    "import pandas as pd\n",
    "\n",
    "# v2 client setup (use Bearer Token from Twitter Developer portal)\n",
    "BEARER_TOKEN = \"AAAAAAAAAAAAAAAAAAAAAHX23AEAAAAAYz%2FOOgOuvxOGhV60eMiEfm632aw%3DVYN6ug2x5gn2AfMyZLdCbkXzbH4YKGsI3bSWxS6aA9Miainu1g\"\n",
    "\n",
    "client = tweepy.Client(bearer_token=BEARER_TOKEN)\n",
    "\n",
    "query = \"India Elections -is:retweet lang:en\"\n",
    "max_results = 50  # limit for free tier per call\n",
    "\n",
    "response = client.search_recent_tweets(query=query,\n",
    "                                       tweet_fields=[\"created_at\", \"author_id\", \"text\"],\n",
    "                                       max_results=max_results)\n",
    "\n",
    "data = []\n",
    "for tweet in response.data:\n",
    "    data.append([tweet.id, tweet.created_at, tweet.author_id, tweet.text])\n",
    "\n",
    "df = pd.DataFrame(data, columns=[\"Tweet_ID\", \"Timestamp\", \"Author_ID\", \"Text\"])\n",
    "df.head()\n"
   ]
  },
  {
   "cell_type": "raw",
   "id": "281aacff-06f7-4067-a715-4955d832f01f",
   "metadata": {},
   "source": [
    "Clean the Tweets"
   ]
  },
  {
   "cell_type": "code",
   "execution_count": 21,
   "id": "8fd30882-36c9-4ed9-8b67-5d6f564575cd",
   "metadata": {},
   "outputs": [
    {
     "data": {
      "text/html": [
       "<div>\n",
       "<style scoped>\n",
       "    .dataframe tbody tr th:only-of-type {\n",
       "        vertical-align: middle;\n",
       "    }\n",
       "\n",
       "    .dataframe tbody tr th {\n",
       "        vertical-align: top;\n",
       "    }\n",
       "\n",
       "    .dataframe thead th {\n",
       "        text-align: right;\n",
       "    }\n",
       "</style>\n",
       "<table border=\"1\" class=\"dataframe\">\n",
       "  <thead>\n",
       "    <tr style=\"text-align: right;\">\n",
       "      <th></th>\n",
       "      <th>Text</th>\n",
       "      <th>Clean_Text</th>\n",
       "    </tr>\n",
       "  </thead>\n",
       "  <tbody>\n",
       "    <tr>\n",
       "      <th>0</th>\n",
       "      <td>@ECISVEEP @airnewsalerts @DDNewslive @DDNewsHi...</td>\n",
       "      <td>greatly welcome none has the authority to diff...</td>\n",
       "    </tr>\n",
       "    <tr>\n",
       "      <th>1</th>\n",
       "      <td>Hey @RahulGandhi  , Election commission is com...</td>\n",
       "      <td>hey    election commission is committed to ind...</td>\n",
       "    </tr>\n",
       "    <tr>\n",
       "      <th>2</th>\n",
       "      <td>@PMRCLofficial @AbhaySinghIAS @_sharma999 @IPR...</td>\n",
       "      <td>please dont rush work due to elections politic...</td>\n",
       "    </tr>\n",
       "    <tr>\n",
       "      <th>3</th>\n",
       "      <td>@ugiboogie2 @sandeep_PT This govt. has to fall...</td>\n",
       "      <td>this govt has to fall in a matter of timeso th...</td>\n",
       "    </tr>\n",
       "    <tr>\n",
       "      <th>4</th>\n",
       "      <td>@MeghUpdates I don't understand why congress k...</td>\n",
       "      <td>i dont understand why congress keeps repeating...</td>\n",
       "    </tr>\n",
       "  </tbody>\n",
       "</table>\n",
       "</div>"
      ],
      "text/plain": [
       "                                                Text  \\\n",
       "0  @ECISVEEP @airnewsalerts @DDNewslive @DDNewsHi...   \n",
       "1  Hey @RahulGandhi  , Election commission is com...   \n",
       "2  @PMRCLofficial @AbhaySinghIAS @_sharma999 @IPR...   \n",
       "3  @ugiboogie2 @sandeep_PT This govt. has to fall...   \n",
       "4  @MeghUpdates I don't understand why congress k...   \n",
       "\n",
       "                                          Clean_Text  \n",
       "0  greatly welcome none has the authority to diff...  \n",
       "1  hey    election commission is committed to ind...  \n",
       "2  please dont rush work due to elections politic...  \n",
       "3  this govt has to fall in a matter of timeso th...  \n",
       "4  i dont understand why congress keeps repeating...  "
      ]
     },
     "execution_count": 21,
     "metadata": {},
     "output_type": "execute_result"
    }
   ],
   "source": [
    "import re\n",
    "import string\n",
    "\n",
    "def clean_tweet(text):\n",
    "    text = re.sub(r'http\\S+', '', text)                    # Remove URLs\n",
    "    text = re.sub(r'@\\w+', '', text)                       # Remove @mentions\n",
    "    text = re.sub(r'#', '', text)                          # Remove hashtag symbol\n",
    "    text = re.sub(r'[^\\x00-\\x7F]+', '', text)              # Remove emojis/non-ASCII\n",
    "    text = re.sub(r'\\d+', '', text)                        # Remove numbers\n",
    "    text = text.translate(str.maketrans('', '', string.punctuation))  # Remove punctuation\n",
    "    text = text.lower().strip()                            # Lowercase and trim\n",
    "    return text\n",
    "\n",
    "# Apply to DataFrame\n",
    "df[\"Clean_Text\"] = df[\"Text\"].apply(clean_tweet)\n",
    "df[[\"Text\", \"Clean_Text\"]].head()\n"
   ]
  },
  {
   "cell_type": "raw",
   "id": "f720ad37-2b51-44c1-8157-ad1d93e2b724",
   "metadata": {},
   "source": [
    "Sentiment Analysis Using TextBlob"
   ]
  },
  {
   "cell_type": "code",
   "execution_count": 27,
   "id": "d554420a-8682-41ce-9af0-1cf21979aec1",
   "metadata": {},
   "outputs": [
    {
     "name": "stdout",
     "output_type": "stream",
     "text": [
      "Collecting textblob\n",
      "  Downloading textblob-0.19.0-py3-none-any.whl.metadata (4.4 kB)\n",
      "Requirement already satisfied: nltk>=3.9 in /opt/anaconda3/lib/python3.12/site-packages (from textblob) (3.9.1)\n",
      "Requirement already satisfied: click in /opt/anaconda3/lib/python3.12/site-packages (from nltk>=3.9->textblob) (8.1.7)\n",
      "Requirement already satisfied: joblib in /opt/anaconda3/lib/python3.12/site-packages (from nltk>=3.9->textblob) (1.4.2)\n",
      "Requirement already satisfied: regex>=2021.8.3 in /opt/anaconda3/lib/python3.12/site-packages (from nltk>=3.9->textblob) (2024.9.11)\n",
      "Requirement already satisfied: tqdm in /opt/anaconda3/lib/python3.12/site-packages (from nltk>=3.9->textblob) (4.66.5)\n",
      "Downloading textblob-0.19.0-py3-none-any.whl (624 kB)\n",
      "\u001b[2K   \u001b[90m━━━━━━━━━━━━━━━━━━━━━━━━━━━━━━━━━━━━━━━\u001b[0m \u001b[32m624.3/624.3 kB\u001b[0m \u001b[31m604.5 kB/s\u001b[0m eta \u001b[36m0:00:00\u001b[0ma \u001b[36m0:00:01\u001b[0m\n",
      "\u001b[?25hInstalling collected packages: textblob\n",
      "Successfully installed textblob-0.19.0\n"
     ]
    }
   ],
   "source": [
    "!pip install textblob"
   ]
  },
  {
   "cell_type": "code",
   "execution_count": 29,
   "id": "49099204-6018-44aa-a948-ba7cef15c934",
   "metadata": {},
   "outputs": [
    {
     "name": "stderr",
     "output_type": "stream",
     "text": [
      "[nltk_data] Downloading package punkt to\n",
      "[nltk_data]     /Users/santhoshms/nltk_data...\n",
      "[nltk_data]   Unzipping tokenizers/punkt.zip.\n"
     ]
    },
    {
     "data": {
      "text/plain": [
       "True"
      ]
     },
     "execution_count": 29,
     "metadata": {},
     "output_type": "execute_result"
    }
   ],
   "source": [
    "import nltk\n",
    "nltk.download('punkt')"
   ]
  },
  {
   "cell_type": "code",
   "execution_count": 31,
   "id": "3344e0f2-0902-4c9d-b515-792b3c958d61",
   "metadata": {},
   "outputs": [
    {
     "data": {
      "text/html": [
       "<div>\n",
       "<style scoped>\n",
       "    .dataframe tbody tr th:only-of-type {\n",
       "        vertical-align: middle;\n",
       "    }\n",
       "\n",
       "    .dataframe tbody tr th {\n",
       "        vertical-align: top;\n",
       "    }\n",
       "\n",
       "    .dataframe thead th {\n",
       "        text-align: right;\n",
       "    }\n",
       "</style>\n",
       "<table border=\"1\" class=\"dataframe\">\n",
       "  <thead>\n",
       "    <tr style=\"text-align: right;\">\n",
       "      <th></th>\n",
       "      <th>Clean_Text</th>\n",
       "      <th>Polarity</th>\n",
       "      <th>Sentiment</th>\n",
       "    </tr>\n",
       "  </thead>\n",
       "  <tbody>\n",
       "    <tr>\n",
       "      <th>0</th>\n",
       "      <td>greatly welcome none has the authority to diff...</td>\n",
       "      <td>0.390000</td>\n",
       "      <td>Positive</td>\n",
       "    </tr>\n",
       "    <tr>\n",
       "      <th>1</th>\n",
       "      <td>hey    election commission is committed to ind...</td>\n",
       "      <td>0.033333</td>\n",
       "      <td>Neutral</td>\n",
       "    </tr>\n",
       "    <tr>\n",
       "      <th>2</th>\n",
       "      <td>please dont rush work due to elections politic...</td>\n",
       "      <td>0.051623</td>\n",
       "      <td>Neutral</td>\n",
       "    </tr>\n",
       "    <tr>\n",
       "      <th>3</th>\n",
       "      <td>this govt has to fall in a matter of timeso th...</td>\n",
       "      <td>-0.100000</td>\n",
       "      <td>Neutral</td>\n",
       "    </tr>\n",
       "    <tr>\n",
       "      <th>4</th>\n",
       "      <td>i dont understand why congress keeps repeating...</td>\n",
       "      <td>-0.056667</td>\n",
       "      <td>Neutral</td>\n",
       "    </tr>\n",
       "  </tbody>\n",
       "</table>\n",
       "</div>"
      ],
      "text/plain": [
       "                                          Clean_Text  Polarity Sentiment\n",
       "0  greatly welcome none has the authority to diff...  0.390000  Positive\n",
       "1  hey    election commission is committed to ind...  0.033333   Neutral\n",
       "2  please dont rush work due to elections politic...  0.051623   Neutral\n",
       "3  this govt has to fall in a matter of timeso th... -0.100000   Neutral\n",
       "4  i dont understand why congress keeps repeating... -0.056667   Neutral"
      ]
     },
     "execution_count": 31,
     "metadata": {},
     "output_type": "execute_result"
    }
   ],
   "source": [
    "from textblob import TextBlob\n",
    "\n",
    "def get_polarity(text):\n",
    "    return TextBlob(text).sentiment.polarity\n",
    "\n",
    "def get_sentiment_label(polarity):\n",
    "    if polarity > 0.1:\n",
    "        return \"Positive\"\n",
    "    elif polarity < -0.1:\n",
    "        return \"Negative\"\n",
    "    else:\n",
    "        return \"Neutral\"\n",
    "\n",
    "df[\"Polarity\"] = df[\"Clean_Text\"].apply(get_polarity)\n",
    "df[\"Sentiment\"] = df[\"Polarity\"].apply(get_sentiment_label)\n",
    "\n",
    "df[[\"Clean_Text\", \"Polarity\", \"Sentiment\"]].head()\n"
   ]
  },
  {
   "cell_type": "code",
   "execution_count": 33,
   "id": "a68076c0-3756-45e0-bfbb-80a1b51d8e69",
   "metadata": {},
   "outputs": [
    {
     "name": "stdout",
     "output_type": "stream",
     "text": [
      "✅ tweets.csv saved successfully!\n"
     ]
    }
   ],
   "source": [
    "df.to_csv(\"tweets.csv\", index=False)\n",
    "print(\"✅ tweets.csv saved successfully!\")\n"
   ]
  },
  {
   "cell_type": "raw",
   "id": "dec2cd66-fa1d-4c12-968e-5f4aa0ee5c63",
   "metadata": {},
   "source": [
    "Extract Hashtags from Tweets"
   ]
  },
  {
   "cell_type": "code",
   "execution_count": 39,
   "id": "09480dd5-0a84-442a-a216-e21896bb2ae6",
   "metadata": {},
   "outputs": [
    {
     "data": {
      "text/html": [
       "<div>\n",
       "<style scoped>\n",
       "    .dataframe tbody tr th:only-of-type {\n",
       "        vertical-align: middle;\n",
       "    }\n",
       "\n",
       "    .dataframe tbody tr th {\n",
       "        vertical-align: top;\n",
       "    }\n",
       "\n",
       "    .dataframe thead th {\n",
       "        text-align: right;\n",
       "    }\n",
       "</style>\n",
       "<table border=\"1\" class=\"dataframe\">\n",
       "  <thead>\n",
       "    <tr style=\"text-align: right;\">\n",
       "      <th></th>\n",
       "      <th>Text</th>\n",
       "      <th>Hashtags</th>\n",
       "    </tr>\n",
       "  </thead>\n",
       "  <tbody>\n",
       "    <tr>\n",
       "      <th>0</th>\n",
       "      <td>@ECISVEEP @airnewsalerts @DDNewslive @DDNewsHi...</td>\n",
       "      <td>[]</td>\n",
       "    </tr>\n",
       "    <tr>\n",
       "      <th>1</th>\n",
       "      <td>Hey @RahulGandhi  , Election commission is com...</td>\n",
       "      <td>[]</td>\n",
       "    </tr>\n",
       "    <tr>\n",
       "      <th>2</th>\n",
       "      <td>@PMRCLofficial @AbhaySinghIAS @_sharma999 @IPR...</td>\n",
       "      <td>[]</td>\n",
       "    </tr>\n",
       "    <tr>\n",
       "      <th>3</th>\n",
       "      <td>@ugiboogie2 @sandeep_PT This govt. has to fall...</td>\n",
       "      <td>[]</td>\n",
       "    </tr>\n",
       "    <tr>\n",
       "      <th>4</th>\n",
       "      <td>@MeghUpdates I don't understand why congress k...</td>\n",
       "      <td>[]</td>\n",
       "    </tr>\n",
       "  </tbody>\n",
       "</table>\n",
       "</div>"
      ],
      "text/plain": [
       "                                                Text Hashtags\n",
       "0  @ECISVEEP @airnewsalerts @DDNewslive @DDNewsHi...       []\n",
       "1  Hey @RahulGandhi  , Election commission is com...       []\n",
       "2  @PMRCLofficial @AbhaySinghIAS @_sharma999 @IPR...       []\n",
       "3  @ugiboogie2 @sandeep_PT This govt. has to fall...       []\n",
       "4  @MeghUpdates I don't understand why congress k...       []"
      ]
     },
     "execution_count": 39,
     "metadata": {},
     "output_type": "execute_result"
    }
   ],
   "source": [
    "import re\n",
    "\n",
    "# Function to extract hashtags\n",
    "def extract_hashtags(text):\n",
    "    return re.findall(r\"#(\\w+)\", str(text))  # Extract words after #\n",
    "\n",
    "# Apply to raw tweet text column\n",
    "df[\"Hashtags\"] = df[\"Text\"].apply(extract_hashtags)\n",
    "\n",
    "# Show example\n",
    "df[[\"Text\", \"Hashtags\"]].head()\n"
   ]
  },
  {
   "cell_type": "code",
   "execution_count": 41,
   "id": "fc7e6669-61fd-4545-8520-05779c254375",
   "metadata": {},
   "outputs": [
    {
     "data": {
      "text/html": [
       "<div>\n",
       "<style scoped>\n",
       "    .dataframe tbody tr th:only-of-type {\n",
       "        vertical-align: middle;\n",
       "    }\n",
       "\n",
       "    .dataframe tbody tr th {\n",
       "        vertical-align: top;\n",
       "    }\n",
       "\n",
       "    .dataframe thead th {\n",
       "        text-align: right;\n",
       "    }\n",
       "</style>\n",
       "<table border=\"1\" class=\"dataframe\">\n",
       "  <thead>\n",
       "    <tr style=\"text-align: right;\">\n",
       "      <th></th>\n",
       "      <th>Hashtags</th>\n",
       "      <th>Sentiment</th>\n",
       "    </tr>\n",
       "  </thead>\n",
       "  <tbody>\n",
       "    <tr>\n",
       "      <th>7</th>\n",
       "      <td>VoterRights</td>\n",
       "      <td>Positive</td>\n",
       "    </tr>\n",
       "    <tr>\n",
       "      <th>7</th>\n",
       "      <td>Bihar</td>\n",
       "      <td>Positive</td>\n",
       "    </tr>\n",
       "    <tr>\n",
       "      <th>8</th>\n",
       "      <td>Sanghis</td>\n",
       "      <td>Positive</td>\n",
       "    </tr>\n",
       "    <tr>\n",
       "      <th>8</th>\n",
       "      <td>ResistIndia</td>\n",
       "      <td>Positive</td>\n",
       "    </tr>\n",
       "    <tr>\n",
       "      <th>15</th>\n",
       "      <td>cpimspeak</td>\n",
       "      <td>Neutral</td>\n",
       "    </tr>\n",
       "  </tbody>\n",
       "</table>\n",
       "</div>"
      ],
      "text/plain": [
       "       Hashtags Sentiment\n",
       "7   VoterRights  Positive\n",
       "7         Bihar  Positive\n",
       "8       Sanghis  Positive\n",
       "8   ResistIndia  Positive\n",
       "15    cpimspeak   Neutral"
      ]
     },
     "execution_count": 41,
     "metadata": {},
     "output_type": "execute_result"
    }
   ],
   "source": [
    "# Expand hashtags into separate rows\n",
    "hashtags_df = df.explode(\"Hashtags\").dropna(subset=[\"Hashtags\"])\n",
    "\n",
    "hashtags_df[[\"Hashtags\", \"Sentiment\"]].head()\n"
   ]
  },
  {
   "cell_type": "code",
   "execution_count": 43,
   "id": "8991c780-b657-405c-8c2b-52aa45fc13dd",
   "metadata": {},
   "outputs": [
    {
     "data": {
      "text/html": [
       "<div>\n",
       "<style scoped>\n",
       "    .dataframe tbody tr th:only-of-type {\n",
       "        vertical-align: middle;\n",
       "    }\n",
       "\n",
       "    .dataframe tbody tr th {\n",
       "        vertical-align: top;\n",
       "    }\n",
       "\n",
       "    .dataframe thead th {\n",
       "        text-align: right;\n",
       "    }\n",
       "</style>\n",
       "<table border=\"1\" class=\"dataframe\">\n",
       "  <thead>\n",
       "    <tr style=\"text-align: right;\">\n",
       "      <th></th>\n",
       "      <th>Sentiment</th>\n",
       "      <th>Hashtags</th>\n",
       "      <th>Count</th>\n",
       "    </tr>\n",
       "  </thead>\n",
       "  <tbody>\n",
       "    <tr>\n",
       "      <th>0</th>\n",
       "      <td>Neutral</td>\n",
       "      <td>CPIM</td>\n",
       "      <td>1</td>\n",
       "    </tr>\n",
       "    <tr>\n",
       "      <th>1</th>\n",
       "      <td>Neutral</td>\n",
       "      <td>FakeEncounters</td>\n",
       "      <td>1</td>\n",
       "    </tr>\n",
       "    <tr>\n",
       "      <th>2</th>\n",
       "      <td>Neutral</td>\n",
       "      <td>FalseNarrative</td>\n",
       "      <td>1</td>\n",
       "    </tr>\n",
       "    <tr>\n",
       "      <th>3</th>\n",
       "      <td>Neutral</td>\n",
       "      <td>IndiaElections2025</td>\n",
       "      <td>1</td>\n",
       "    </tr>\n",
       "    <tr>\n",
       "      <th>4</th>\n",
       "      <td>Neutral</td>\n",
       "      <td>Islamophobia</td>\n",
       "      <td>1</td>\n",
       "    </tr>\n",
       "    <tr>\n",
       "      <th>5</th>\n",
       "      <td>Neutral</td>\n",
       "      <td>ModiExposed</td>\n",
       "      <td>1</td>\n",
       "    </tr>\n",
       "    <tr>\n",
       "      <th>6</th>\n",
       "      <td>Neutral</td>\n",
       "      <td>cpimspeak</td>\n",
       "      <td>1</td>\n",
       "    </tr>\n",
       "    <tr>\n",
       "      <th>7</th>\n",
       "      <td>Positive</td>\n",
       "      <td>Bihar</td>\n",
       "      <td>1</td>\n",
       "    </tr>\n",
       "    <tr>\n",
       "      <th>8</th>\n",
       "      <td>Positive</td>\n",
       "      <td>ECI</td>\n",
       "      <td>1</td>\n",
       "    </tr>\n",
       "    <tr>\n",
       "      <th>9</th>\n",
       "      <td>Positive</td>\n",
       "      <td>ResistIndia</td>\n",
       "      <td>1</td>\n",
       "    </tr>\n",
       "  </tbody>\n",
       "</table>\n",
       "</div>"
      ],
      "text/plain": [
       "  Sentiment            Hashtags  Count\n",
       "0   Neutral                CPIM      1\n",
       "1   Neutral      FakeEncounters      1\n",
       "2   Neutral      FalseNarrative      1\n",
       "3   Neutral  IndiaElections2025      1\n",
       "4   Neutral        Islamophobia      1\n",
       "5   Neutral         ModiExposed      1\n",
       "6   Neutral           cpimspeak      1\n",
       "7  Positive               Bihar      1\n",
       "8  Positive                 ECI      1\n",
       "9  Positive         ResistIndia      1"
      ]
     },
     "execution_count": 43,
     "metadata": {},
     "output_type": "execute_result"
    }
   ],
   "source": [
    "# Count top hashtags by sentiment\n",
    "sentiment_hashtags = (\n",
    "    hashtags_df.groupby([\"Sentiment\", \"Hashtags\"])\n",
    "    .size()\n",
    "    .reset_index(name=\"Count\")\n",
    "    .sort_values([\"Sentiment\", \"Count\"], ascending=[True, False])\n",
    ")\n",
    "\n",
    "sentiment_hashtags.head(10)\n"
   ]
  },
  {
   "cell_type": "code",
   "execution_count": 45,
   "id": "8e61dec1-ce54-44fc-beca-1ebb82b1817e",
   "metadata": {},
   "outputs": [
    {
     "name": "stdout",
     "output_type": "stream",
     "text": [
      "\n",
      "Top hashtags for Positive:\n",
      "   Sentiment     Hashtags  Count\n",
      "7   Positive        Bihar      1\n",
      "8   Positive          ECI      1\n",
      "9   Positive  ResistIndia      1\n",
      "10  Positive      Sanghis      1\n",
      "11  Positive  VoterRights      1\n",
      "\n",
      "Top hashtags for Neutral:\n",
      "  Sentiment            Hashtags  Count\n",
      "0   Neutral                CPIM      1\n",
      "1   Neutral      FakeEncounters      1\n",
      "2   Neutral      FalseNarrative      1\n",
      "3   Neutral  IndiaElections2025      1\n",
      "4   Neutral        Islamophobia      1\n",
      "\n",
      "Top hashtags for Negative:\n",
      "Empty DataFrame\n",
      "Columns: [Sentiment, Hashtags, Count]\n",
      "Index: []\n"
     ]
    }
   ],
   "source": [
    "# Top 5 for each sentiment\n",
    "for sentiment in [\"Positive\", \"Neutral\", \"Negative\"]:\n",
    "    print(f\"\\nTop hashtags for {sentiment}:\")\n",
    "    print(sentiment_hashtags[sentiment_hashtags[\"Sentiment\"] == sentiment].head(5))\n"
   ]
  },
  {
   "cell_type": "code",
   "execution_count": 49,
   "id": "8a273aca-701b-4a33-a931-6b9922612df3",
   "metadata": {},
   "outputs": [
    {
     "name": "stdout",
     "output_type": "stream",
     "text": [
      "✅ Saved as hashtags_by_sentiment.csv\n"
     ]
    }
   ],
   "source": [
    "import re\n",
    "\n",
    "# Extract hashtags\n",
    "def extract_hashtags(text):\n",
    "    return re.findall(r\"#(\\w+)\", str(text))\n",
    "\n",
    "df[\"Hashtags\"] = df[\"Text\"].apply(extract_hashtags)\n",
    "\n",
    "# Expand hashtags to rows\n",
    "hashtags_df = df.explode(\"Hashtags\").dropna(subset=[\"Hashtags\"])\n",
    "\n",
    "# Group and count hashtags by sentiment\n",
    "sentiment_hashtags = (\n",
    "    hashtags_df.groupby([\"Sentiment\", \"Hashtags\"])\n",
    "    .size()\n",
    "    .reset_index(name=\"Count\")\n",
    "    .sort_values([\"Sentiment\", \"Count\"], ascending=[True, False])\n",
    ")\n",
    "\n",
    "# Save to CSV\n",
    "sentiment_hashtags.to_csv(\"hashtags_by_sentiment.csv\", index=False)\n",
    "print(\"✅ Saved as hashtags_by_sentiment.csv\")\n"
   ]
  }
 ],
 "metadata": {
  "kernelspec": {
   "display_name": "Python [conda env:base] *",
   "language": "python",
   "name": "conda-base-py"
  },
  "language_info": {
   "codemirror_mode": {
    "name": "ipython",
    "version": 3
   },
   "file_extension": ".py",
   "mimetype": "text/x-python",
   "name": "python",
   "nbconvert_exporter": "python",
   "pygments_lexer": "ipython3",
   "version": "3.12.7"
  }
 },
 "nbformat": 4,
 "nbformat_minor": 5
}
